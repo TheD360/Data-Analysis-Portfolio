{
 "cells": [
  {
   "cell_type": "markdown",
   "id": "1ab19105-658a-41f7-97e9-e9049babec1a",
   "metadata": {},
   "source": [
    "# Medical Insurance Estimation project Part II"
   ]
  },
  {
   "cell_type": "markdown",
   "id": "6df95a9a-f7a7-45e7-90de-d8b660e36a78",
   "metadata": {
    "tags": []
   },
   "source": [
    "Apply knowledge of python lists to store insurance cost data in a list. And compare estimated insurance costs to actual insurance costs. "
   ]
  },
  {
   "cell_type": "code",
   "execution_count": 5,
   "id": "776931d1-0759-4e83-b83e-c085d3e7ac2a",
   "metadata": {
    "tags": []
   },
   "outputs": [
    {
     "name": "stdout",
     "output_type": "stream",
     "text": [
      "Maria's Estimated Insurance Cost: 4222.0 dollars.\n",
      "Rohan's Estimated Insurance Cost: 5442.0 dollars.\n",
      "Valentina's Estimated Insurance Cost: 36368.0 dollars.\n"
     ]
    }
   ],
   "source": [
    "# Function to estimate insurance cost:\n",
    "def estimate_insurance_cost(name, age, sex, bmi, num_of_children, smoker):\n",
    "  estimated_cost = 250*age - 128*sex + 370*bmi + 425*num_of_children + 24000*smoker - 12500\n",
    "  print(name + \"'s Estimated Insurance Cost: \" + str(estimated_cost) + \" dollars.\")\n",
    "  return estimated_cost\n",
    " \n",
    "# Estimate Maria's insurance cost\n",
    "maria_insurance_cost = estimate_insurance_cost(name = \"Maria\", age =\n",
    "31, sex = 0, bmi = 23.1, num_of_children = 1, smoker = 0)\n",
    "\n",
    "# Estimate Rohan's insurance cost\n",
    "rohan_insurance_cost = estimate_insurance_cost(name = \n",
    "\"Rohan\", age = 25, sex = 1, bmi = 28.5, num_of_children = 3, smoker = 0)\n",
    "\n",
    "# Estimate Valentina's insurance cost\n",
    "valentina_insurance_cost = estimate_insurance_cost(name = \"Valentina\", age = \n",
    "53, sex = 0, bmi = 31.4, num_of_children = 0, smoker = 1)"
   ]
  },
  {
   "cell_type": "code",
   "execution_count": 6,
   "id": "5e85e09a-6819-48c4-9be5-74e672858f21",
   "metadata": {
    "tags": []
   },
   "outputs": [
    {
     "name": "stdout",
     "output_type": "stream",
     "text": [
      "[('Maria', '4150'), ('Rohan', '5320'), ('Valentina', '35210')]\n"
     ]
    }
   ],
   "source": [
    "# Making a list of tuples out of customer names and their estimated insurance cost. This can be easily converted into a two-dimensional table.\n",
    "# this lists represent the actual cost customers pay for insurance while the function above gives us the estimated cost based on certain defined variables.\n",
    "names = [\"Maria\", \"Rohan\", \"Valentina\"]\n",
    "insurance_cost = [\"4150\", \"5320\", \"35210\"]\n",
    "\n",
    "#insurance_data = zip(names, insurance_cost) #testing out the zip function first\n",
    "\n",
    "# print(insurance_data)\n",
    "# new variable output displays as suggested in the example output.\n",
    "\n",
    "insurance_cost = list(zip(names, insurance_cost))\n",
    "\n",
    "print(insurance_cost)"
   ]
  },
  {
   "cell_type": "code",
   "execution_count": 7,
   "id": "ab4e7426-a123-4f32-95ab-86dab74c7f94",
   "metadata": {
    "tags": []
   },
   "outputs": [],
   "source": [
    "# this is the list we would use to store the estimated insurance costs\n",
    "estimated_insurance_cost = [ ]\n",
    "\n",
    "# estimated_insurance_data.append(insurance_cost[0])  # this would add a tuple set to the new list one by one using their index place. Would only work if pulling from a list of tuples.\n",
    "# in this case they have to be added one after the other.\n"
   ]
  },
  {
   "cell_type": "code",
   "execution_count": 8,
   "id": "26082c0f-b22e-4a8b-97f7-1000fdf5131b",
   "metadata": {
    "tags": []
   },
   "outputs": [
    {
     "name": "stdout",
     "output_type": "stream",
     "text": [
      "Estimated Insurance cost: \n",
      " [('Maria', 4222.0), ('Rohan', 5442.0), ('Valentina', 36368.0)]\n",
      "\n",
      "\n",
      "Actual Insurance cost: \n",
      " [('Maria', '4150'), ('Rohan', '5320'), ('Valentina', '35210')]\n"
     ]
    }
   ],
   "source": [
    "# this adds the name of the customers and their calculated estimates as tuples to the created empty list.\n",
    "estimated_insurance_cost.append ((\"Maria\", maria_insurance_cost))\n",
    "estimated_insurance_cost.append ((\"Rohan\", rohan_insurance_cost))\n",
    "estimated_insurance_cost.append ((\"Valentina\", valentina_insurance_cost))\n",
    "\n",
    "\n",
    "# this is for using a loop to add all the tuples into a newly created empty list if that is what is needed but right now it seems 'append' would do\n",
    "# just fine for adding the output of the estimated_insurance_cost one by one. this is a small data set so it can work.\n",
    "# for tuple_data in insurance_cost:\n",
    "#     actual_insurance_data.append(tuple_data)\n",
    "    \n",
    "# final output comparing actual insurnace cost with estimated insurance cost\n",
    "\n",
    "print (\"Estimated Insurance cost:\", \"\\n\", estimated_insurance_cost)\n",
    "print(\"\\n\")\n",
    "print(\"Actual Insurance cost:\", \"\\n\", insurance_cost)"
   ]
  },
  {
   "cell_type": "code",
   "execution_count": null,
   "id": "2eb6c929-e7f7-4c82-9b32-23cf25488b0d",
   "metadata": {},
   "outputs": [],
   "source": [
    "# by observation the actual cost turned out to be less expensive everytime.\n",
    "# Note: the actual insurance cost was added abitrary and not calculated.\n",
    "\n",
    "# the nautre in which both data exist now, if it were a larger dataset make them rightly structured for further analysis."
   ]
  }
 ],
 "metadata": {
  "kernelspec": {
   "display_name": "Python 3 (ipykernel)",
   "language": "python",
   "name": "python3"
  },
  "language_info": {
   "codemirror_mode": {
    "name": "ipython",
    "version": 3
   },
   "file_extension": ".py",
   "mimetype": "text/x-python",
   "name": "python",
   "nbconvert_exporter": "python",
   "pygments_lexer": "ipython3",
   "version": "3.11.5"
  }
 },
 "nbformat": 4,
 "nbformat_minor": 5
}
