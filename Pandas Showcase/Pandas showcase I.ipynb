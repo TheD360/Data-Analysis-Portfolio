{
 "cells": [
  {
   "cell_type": "markdown",
   "id": "7ea19410-2bfa-42d6-8a51-5287c546fab1",
   "metadata": {},
   "source": [
    "## Pandas Showcase\n",
    "\n",
    "Pandas is a very powerful tool and library for a data analysis with it preform complex data manipulation that would have been previously difficult to do using regular python code or function."
   ]
  },
  {
   "cell_type": "code",
   "execution_count": 3,
   "id": "2fbf9d40-ea2e-470b-a26b-4d9c5fa34ac8",
   "metadata": {
    "tags": []
   },
   "outputs": [],
   "source": [
    "# Basic creation of a dataframe (df) and operations in a df using pandas\n",
    "\n",
    "import pandas as pd\n",
    "\n",
    "# Create a DataFrame\n",
    "data = {\n",
    "    'Name': ['Alice', 'Bob', 'Charlie'],\n",
    "    'Age': [25, 30, 35],\n",
    "    'City': ['New York', 'Los Angeles', 'Chicago']\n",
    "}\n",
    "\n",
    "df = pd.DataFrame(data)"
   ]
  },
  {
   "cell_type": "code",
   "execution_count": 4,
   "id": "e33e8664-7261-427d-b284-143c53523b29",
   "metadata": {
    "tags": []
   },
   "outputs": [
    {
     "name": "stdout",
     "output_type": "stream",
     "text": [
      "      Name  Age         City\n",
      "0    Alice   25     New York\n",
      "1      Bob   30  Los Angeles\n",
      "2  Charlie   35      Chicago\n"
     ]
    }
   ],
   "source": [
    "# Display the DataFrame\n",
    "print(df)"
   ]
  },
  {
   "cell_type": "code",
   "execution_count": 5,
   "id": "1aab8b30-8f80-4f5a-99a4-ee66484e59e8",
   "metadata": {
    "tags": []
   },
   "outputs": [
    {
     "name": "stdout",
     "output_type": "stream",
     "text": [
      "Average age: 30.0\n",
      "Names of people: ['Alice', 'Bob', 'Charlie']\n"
     ]
    }
   ],
   "source": [
    "# Basic operations\n",
    "print(\"Average age:\", df['Age'].mean())\n",
    "print(\"Names of people:\", df['Name'].tolist())"
   ]
  },
  {
   "cell_type": "markdown",
   "id": "49f0f855-a837-42a7-ae61-dd42f79b02cc",
   "metadata": {},
   "source": [
    "### Basic example of an EDA operation using pandas"
   ]
  },
  {
   "cell_type": "code",
   "execution_count": 6,
   "id": "1298aa95-455f-4588-8dc6-08b9784d5d7c",
   "metadata": {},
   "outputs": [],
   "source": [
    "import pandas as pd\n",
    "import matplotlib.pyplot as plt\n",
    "\n",
    "# Load sample data\n",
    "df = pd.DataFrame({\n",
    "    'Age': [25, 30, 35, 40, 45, 50, 55, 60, 65, 70],\n",
    "    'Income': [35000, 40000, 45000, 50000, 55000, 60000, 65000, 70000, 75000, 80000]\n",
    "})\n",
    "\n",
    "\n"
   ]
  },
  {
   "cell_type": "code",
   "execution_count": 7,
   "id": "61ef6e72-17e5-4541-8449-d25b26162193",
   "metadata": {
    "tags": []
   },
   "outputs": [
    {
     "name": "stdout",
     "output_type": "stream",
     "text": [
      "             Age       Income\n",
      "count  10.000000     10.00000\n",
      "mean   47.500000  57500.00000\n",
      "std    15.138252  15138.25177\n",
      "min    25.000000  35000.00000\n",
      "25%    36.250000  46250.00000\n",
      "50%    47.500000  57500.00000\n",
      "75%    58.750000  68750.00000\n",
      "max    70.000000  80000.00000\n"
     ]
    }
   ],
   "source": [
    "# Summary statistics\n",
    "print(df.describe())"
   ]
  },
  {
   "cell_type": "code",
   "execution_count": 8,
   "id": "747904f7-db54-443d-ba00-a598e1a68367",
   "metadata": {
    "tags": []
   },
   "outputs": [
    {
     "data": {
      "image/png": "[encoded data removed]",
      "text/plain": [
       "<Figure size 640x480 with 1 Axes>"
      ]
     },
     "metadata": {},
     "output_type": "display_data"
    },
    {
     "name": "stdout",
     "output_type": "stream",
     "text": [
      "        Age  Income\n",
      "Age     1.0     1.0\n",
      "Income  1.0     1.0\n"
     ]
    }
   ],
   "source": [
    "# Scatter plot\n",
    "plt.scatter(df['Age'], df['Income'])\n",
    "plt.xlabel('Age')\n",
    "plt.ylabel('Income')\n",
    "plt.title('Age vs Income')\n",
    "plt.show()\n",
    "\n",
    "# Correlation matrix\n",
    "print(df.corr())"
   ]
  }
 ],
 "metadata": {
  "kernelspec": {
   "display_name": "Python 3 (ipykernel)",
   "language": "python",
   "name": "python3"
  },
  "language_info": {
   "codemirror_mode": {
    "name": "ipython",
    "version": 3
   },
   "file_extension": ".py",
   "mimetype": "text/x-python",
   "name": "python",
   "nbconvert_exporter": "python",
   "pygments_lexer": "ipython3",
   "version": "3.11.5"
  }
 },
 "nbformat": 4,
 "nbformat_minor": 5
}
